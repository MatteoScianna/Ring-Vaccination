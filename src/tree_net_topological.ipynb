{
 "cells": [
  {
   "cell_type": "markdown",
   "metadata": {},
   "source": [
    "# Imports and Data Loading"
   ]
  },
  {
   "cell_type": "code",
   "execution_count": null,
   "metadata": {},
   "outputs": [],
   "source": [
    "import json\n",
    "import geopandas as gpd\n",
    "import matplotlib.pyplot as plt\n",
    "import numpy as np\n",
    "from shapely.geometry import box\n",
    "import random\n",
    "import geopy.distance\n",
    "import pandas as pd\n",
    "import numpy as np\n",
    "from geovoronoi import voronoi_regions_from_coords, points_to_coords\n",
    "import networkx as nx\n"
   ]
  },
  {
   "cell_type": "code",
   "execution_count": null,
   "metadata": {},
   "outputs": [],
   "source": [
    "path = \"\"\n",
    "puglia_prov = gpd.read_file(path+\"/puglia_prov.geojson\")\n",
    "puglia_mun = gpd.read_file(path+\"/puglia_mun.geojson\")\n",
    "uliveti = gpd.read_file(path+\"/uliveti.geojson\")"
   ]
  },
  {
   "cell_type": "code",
   "execution_count": null,
   "metadata": {},
   "outputs": [],
   "source": [
    "uliveti1 = uliveti.copy()\n",
    "uliveti1 = uliveti1.to_crs(epsg=3395)\n",
    "uliveti1['geometry'] = uliveti1.centroid"
   ]
  },
  {
   "cell_type": "code",
   "execution_count": null,
   "metadata": {},
   "outputs": [],
   "source": [
    "area = puglia_prov[puglia_prov['DEN_PROV'] == \"Lecce\"]\n",
    "#area big if in Lecce, Brindisi or Taranto\n",
    "area_big = puglia_prov[puglia_prov['DEN_PROV'].isin([\"Lecce\",\"Brindisi\",\"Taranto\"])]\n",
    "#merge\n",
    "area = area.to_crs(epsg=3395)    # convert to World Mercator CRS\n",
    "area_big = area_big.to_crs(epsg=3395)\n",
    "area_shape = area.iloc[0].geometry\n",
    "#merge together the polygon of the three provinces in area big\n",
    "area_shape_big = area_big.unary_union \n",
    "uliveti1 = uliveti1[uliveti1.within(area_shape)]"
   ]
  },
  {
   "cell_type": "markdown",
   "metadata": {},
   "source": [
    "# Constructions of Voronoi regions"
   ]
  },
  {
   "cell_type": "code",
   "execution_count": null,
   "metadata": {},
   "outputs": [],
   "source": [
    "coords = points_to_coords(uliveti1.geometry)\n",
    "region_polys, region_pts = voronoi_regions_from_coords(coords, area_shape.buffer(0.1))"
   ]
  },
  {
   "cell_type": "markdown",
   "metadata": {},
   "source": [
    "# Creation of edgelist\n",
    "Two nodes share an edge if the two corresponding Voronoi regions share a common border"
   ]
  },
  {
   "cell_type": "code",
   "execution_count": null,
   "metadata": {},
   "outputs": [],
   "source": [
    "\n",
    "# dictionary where for each voronoi region id there is the number of the corresponding neighboring regions \n",
    "dict_edgelist = {}\n",
    "j=0\n",
    "for key,value in region_polys.items():\n",
    "    lista = []\n",
    "    for key1,value1 in region_polys.items():\n",
    "        if value1.touches(value):\n",
    "            lista.append(key1)\n",
    "    dict_edgelist[key] = lista\n",
    "    j+=1\n",
    "    print(j)"
   ]
  },
  {
   "cell_type": "markdown",
   "metadata": {},
   "source": [
    "# Creation of the graph object"
   ]
  },
  {
   "cell_type": "code",
   "execution_count": null,
   "metadata": {},
   "outputs": [],
   "source": [
    "dict_degree = {int(k): v for k, v in dict_edgelist.items()}\n",
    "G = nx.Graph(dict_degree)"
   ]
  }
 ],
 "metadata": {
  "language_info": {
   "name": "python"
  }
 },
 "nbformat": 4,
 "nbformat_minor": 2
}
