{
 "cells": [
  {
   "cell_type": "code",
   "execution_count": 1,
   "metadata": {},
   "outputs": [],
   "source": [
    "import random as rand\n",
    "import numpy as np\n",
    "from functions import *"
   ]
  },
  {
   "cell_type": "code",
   "execution_count": 2,
   "metadata": {},
   "outputs": [],
   "source": [
    "def dyn_vax(beta,gamma,omega,graph,radius,tmax,block = True):\n",
    "    #Note that with omega = 0, the model is the SIR model\n",
    "    S = []\n",
    "    I = []\n",
    "    R = []\n",
    "    V = []\n",
    "    \n",
    "    S.append(len(graph.nodes)-1)\n",
    "    I.append(1)\n",
    "    R.append(0)\n",
    "    V.append(0)\n",
    "\n",
    "    list_nodes = list(graph.nodes)\n",
    "    if len(list_nodes) == 0:\n",
    "        return S,I,R,V\n",
    "    \n",
    "    #choose a random node to be infected\n",
    "    patient0 = rand.choice(list_nodes)\n",
    "    infected = [patient0]\n",
    "    recovered = []\n",
    "    vaccinated = []\n",
    "    susceptible = [i for i in list_nodes if i not in infected]\n",
    "\n",
    "    t=0\n",
    "    while t < tmax:\n",
    "        inf1 = infected.copy() #to avoid changing the list while iterating\n",
    "        rand.shuffle(inf1) #shuffle the list of infected nodes to avoid bias\n",
    "        newly_infected = []\n",
    "        for node in inf1:\n",
    "            tot_neigh = nx.single_source_shortest_path_length(graph,node,radius)\n",
    "            neigh = set(key for key, value in tot_neigh.items() if value <= radius) if block else set(key for key, value in tot_neigh.items() if value == radius)\n",
    "\n",
    "            #intersection between neigh and susceptible\n",
    "            for neighbor in neigh.intersection(susceptible):\n",
    "                k_vax = rand.random()\n",
    "                k_inf = rand.random()\n",
    "                if k_vax < omega:\n",
    "                    #print(\"k: \"+str(k)+\": new vaccinated node: \"+str(neighbor))\n",
    "                    vaccinated.append(neighbor)\n",
    "                    susceptible.remove(neighbor)\n",
    "                elif k_inf < beta:\n",
    "                    #print(\"k: \"+str(k)+\": new infected node: \"+str(neighbor))\n",
    "                    infected.append(neighbor)\n",
    "                    newly_infected.append(neighbor)\n",
    "                    susceptible.remove(neighbor)\n",
    "\n",
    "        for node in infected:\n",
    "            if node not in newly_infected:\n",
    "                if rand.random() < gamma:\n",
    "                    #print(\"node: \"+str(node)+\" is recovered\")\n",
    "                    recovered.append(node)\n",
    "                    infected.remove(node)\n",
    "        t += 1\n",
    "        S.append(len(susceptible))\n",
    "        I.append(len(infected))\n",
    "        R.append(len(recovered))\n",
    "        V.append(len(vaccinated))\n",
    "    return S,I,R,V"
   ]
  },
  {
   "cell_type": "code",
   "execution_count": 9,
   "metadata": {},
   "outputs": [],
   "source": [
    "omega = 0.6 #vaccination probability\n",
    "beta = 1 #infection probability\n",
    "gamma = 1 #recover probability\n",
    "t_max = 50 #number of steps of the process\n",
    "n_nodes = 10000 #number of nodes in the network\n",
    "niter = 500 #number of iterations\n",
    "radius = 2 #radius of the vaccination\n",
    "Block = True #block or ring\n",
    "prob_vec = prob_list_powerlaw(2.5,3,400) #definition of the probability distribution of the network\n",
    "degree_vec_in = discrete_samples(prob_vec,n_nodes)\n",
    "G = config_model(degree_vec_in)\n",
    "\n"
   ]
  },
  {
   "cell_type": "code",
   "execution_count": 10,
   "metadata": {},
   "outputs": [
    {
     "name": "stdout",
     "output_type": "stream",
     "text": [
      "Results for omega :0.6, beta: 1::: +███████████████████████-| 99.80% Complete\n",
      "Recovered: 0.3993736\n",
      "Infected: 0.0\n",
      "Susceptible: 0.0003106\n",
      "Vaccinated: 0.6003158\n"
     ]
    }
   ],
   "source": [
    "iterat = 0\n",
    "S = [0]*t_max\n",
    "I = [0]*t_max\n",
    "R = [0]*t_max\n",
    "V = [0]*t_max\n",
    "while iterat < niter:\n",
    "    printProgressBar(iterat,niter,prefix = \"Progress\",suffix = \"Complete\",length = 50)\n",
    "    degree_vec_in = discrete_samples(prob_vec,n_nodes)\n",
    "    G = config_model(degree_vec_in)\n",
    "    sir = dyn_vax(beta,gamma,omega,G,radius,t_max,block = Block) #block = True for block vaccination\n",
    "    S = [S[i]+sir[0][i] for i in range(0,len(S))]\n",
    "    I = [I[i]+sir[1][i] for i in range(0,len(I))]\n",
    "    R = [R[i]+sir[2][i] for i in range(0,len(R))]\n",
    "    V = [V[i]+sir[3][i] for i in range(0,len(V))]\n",
    "    iterat += 1\n",
    "\n",
    "#average\n",
    "S = [i/(niter*n_nodes) for i in S]\n",
    "I = [i/(niter*n_nodes) for i in I]\n",
    "R = [i/(niter*n_nodes) for i in R]\n",
    "V = [i/(niter*n_nodes) for i in V]\n",
    "print(\"Results for omega :\"+str(omega)+\", beta: \"+str(beta)+ \"::: +\\n\"+ \"Recovered: \"+str(R[-1])+\"\\n\"+\"Infected: \"+str(I[-1])+\"\\n\"+\"Susceptible: \"+str(S[-1])+\"\\n\"+\"Vaccinated: \"+str(V[-1]))"
   ]
  },
  {
   "cell_type": "code",
   "execution_count": 11,
   "metadata": {},
   "outputs": [
    {
     "data": {
      "image/png": "[encoded data removed]",
      "text/plain": [
       "<Figure size 640x480 with 1 Axes>"
      ]
     },
     "metadata": {},
     "output_type": "display_data"
    }
   ],
   "source": [
    "#plot\n",
    "import matplotlib.pyplot as plt\n",
    "plt.plot(S,label = \"Susceptible\")\n",
    "plt.plot(I,label = \"Infected\")\n",
    "plt.plot(R,label = \"Recovered\")\n",
    "plt.plot(V,label = \"Vaccinated\")\n",
    "plt.legend()\n",
    "#change xlim    \n",
    "plt.xlim(0,50)\n",
    "plt.show()\n"
   ]
  },
  {
   "cell_type": "code",
   "execution_count": null,
   "metadata": {},
   "outputs": [],
   "source": [
    "path = \"\"\n",
    "Omega = np.linspace(0,0.4,100)\n",
    "Beta = np.linspace(0,1,100)\n",
    "niter = 1000\n",
    "import pandas as pd\n",
    "df = pd.DataFrame(columns = [\"Omega\", \"Beta\", \"t\", \"Recovered\", \"Infected\", \"Susceptible\", \"Vaccinated\"])\n",
    "#save the results in a dataframe\n",
    "df.to_csv(path+\"results.csv\",index = False)\n",
    "for omega in Omega:\n",
    "    for beta in Beta:\n",
    "        iterat = 0\n",
    "        S = [0]*t_max\n",
    "        I = [0]*t_max\n",
    "        R = [0]*t_max\n",
    "        V = [0]*t_max\n",
    "        while iterat < niter:\n",
    "            printProgressBar(iterat,niter,prefix = \"Progress\",suffix = \"Complete\",length = 50)\n",
    "            degree_vec_in = discrete_samples(prob_vec,n_nodes)\n",
    "            G = config_model(degree_vec_in)\n",
    "            sir = dyn_vax(beta,gamma,omega,G,radius,t_max,block = Block) #block = True for block vaccination\n",
    "            S = [S[i]+sir[0][i] for i in range(0,len(S))]\n",
    "            I = [I[i]+sir[1][i] for i in range(0,len(I))]\n",
    "            R = [R[i]+sir[2][i] for i in range(0,len(R))]\n",
    "            V = [V[i]+sir[3][i] for i in range(0,len(V))]\n",
    "            iterat += 1\n",
    "        \n",
    "        #average\n",
    "        S = [i/(niter*n_nodes) for i in S]\n",
    "        I = [i/(niter*n_nodes) for i in I]\n",
    "        R = [i/(niter*n_nodes) for i in R]\n",
    "        V = [i/(niter*n_nodes) for i in V]\n",
    "        print(\"Results for omega :\"+str(omega)+\", beta: \"+str(beta)+ \"::: +\\n\"+ \"Recovered: \"+str(R[-1])+\"\\n\"+\"Infected: \"+str(I[-1])+\"\\n\"+\"Susceptible: \"+str(S[-1])+\"\\n\"+\"Vaccinated: \"+str(V[-1]))\n",
    "        #load df\n",
    "        df = pd.read_csv(path+\"results.csv\")\n",
    "        for t in range(0,t_max):\n",
    "            df = df._append({\"Omega\": omega, \"Beta\": beta, \"t\": t, \"Recovered\": R[t], \"Infected\": I[t], \"Susceptible\": S[t], \"Vaccinated\": V[t]}, ignore_index = True)\n",
    "\n",
    "        df.to_csv(path+\"results.csv\",index = False)\n"
   ]
  }
 ],
 "metadata": {
  "kernelspec": {
   "display_name": "Python 3",
   "language": "python",
   "name": "python3"
  },
  "language_info": {
   "codemirror_mode": {
    "name": "ipython",
    "version": 3
   },
   "file_extension": ".py",
   "mimetype": "text/x-python",
   "name": "python",
   "nbconvert_exporter": "python",
   "pygments_lexer": "ipython3",
   "version": "3.12.2"
  }
 },
 "nbformat": 4,
 "nbformat_minor": 2
}
