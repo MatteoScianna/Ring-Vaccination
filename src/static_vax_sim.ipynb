{
 "cells": [
  {
   "cell_type": "code",
   "execution_count": 5,
   "metadata": {},
   "outputs": [],
   "source": [
    "from functions import *\n",
    "import random as rand\n",
    "from scipy.optimize import fsolve\n",
    "\n"
   ]
  },
  {
   "cell_type": "code",
   "execution_count": 2,
   "metadata": {},
   "outputs": [],
   "source": [
    "Perc_vax = [0.1,0.2,0.3,0.4,0.5,0.6,0.7,0.8]\n",
    "niter = 5\n",
    "iteraz = 0\n",
    "Ring = True\n",
    "alpha = 1\n",
    "radius = 1\n",
    "prob_vec = prob_list_powerlaw(2.5,3,400)\n",
    "p = np.zeros((len(Perc_vax)+1,len(prob_vec)))\n",
    "s = np.zeros((len(Perc_vax)+1,100))\n",
    "nnodes = 10000\n",
    "degree_vec_in = discrete_samples(prob_vec,nnodes)\n",
    "graph = config_model(degree_vec_in)\n",
    "p[0] = prob_vec"
   ]
  },
  {
   "cell_type": "code",
   "execution_count": 6,
   "metadata": {},
   "outputs": [],
   "source": [
    "def prob_list(degree_list,n): #get a probability distribution from a given degree list\n",
    "    prob_vec = []\n",
    "    for i in range(n):\n",
    "        prob_vec.append(degree_list.count(i)/len(degree_list))\n",
    "    return prob_vec\n",
    "\n"
   ]
  },
  {
   "cell_type": "code",
   "execution_count": 9,
   "metadata": {},
   "outputs": [],
   "source": [
    "def static_vax(graph,perc_vax,radius,Ring):\n",
    "    while len(graph.nodes()) > nnodes*(1-perc_vax) and len(max(nx.connected_components(graph), key=len))/nnodes>0.005:\n",
    "            node = rand.choice(list(graph.nodes()))\n",
    "            tot_neigh = nx.single_source_shortest_path_length(graph,node,radius)\n",
    "            neigh = set(key for key, value in tot_neigh.items() if value == radius) if Ring else set(key for key, value in tot_neigh.items() if value <= radius)\n",
    "            for nei in neigh:\n",
    "                if rand.random() < 1:\n",
    "                    graph.remove_node(nei)\n",
    "            #for node in tot_neigh - neigh remove edges\n",
    "            if Ring:\n",
    "                neigh_copia = tot_neigh.copy()\n",
    "                for node in neigh_copia:\n",
    "                    lista_edges_to_remove = []\n",
    "                    if node not in neigh:\n",
    "                        #remove all edges of node\n",
    "                        lista_edges_to_remove.append([(node,neigh) for neigh in graph.neighbors(node)])\n",
    "                    for i in lista_edges_to_remove:\n",
    "                        graph.remove_edges_from(i)\n",
    "\n",
    "    return graph\n"
   ]
  },
  {
   "cell_type": "code",
   "execution_count": 10,
   "metadata": {},
   "outputs": [
    {
     "name": "stdout",
     "output_type": "stream",
     "text": [
      "0\n",
      "1\n",
      "2\n",
      "3\n",
      "4\n",
      "5\n",
      "6\n",
      "7\n",
      "8\n",
      "1\n",
      "1\n",
      "2\n",
      "3\n",
      "4\n",
      "5\n",
      "6\n",
      "7\n",
      "8\n",
      "2\n",
      "1\n",
      "2\n",
      "3\n",
      "4\n",
      "5\n",
      "6\n",
      "7\n",
      "8\n",
      "3\n",
      "1\n",
      "2\n",
      "3\n",
      "4\n",
      "5\n",
      "6\n",
      "7\n",
      "8\n",
      "4\n",
      "1\n",
      "2\n",
      "3\n",
      "4\n",
      "5\n",
      "6\n",
      "7\n",
      "8\n"
     ]
    }
   ],
   "source": [
    "\n",
    "#%%\n",
    "\n",
    "####### STATIC VAX - SIMULATION ########\n",
    "\n",
    "while iteraz < niter:\n",
    "    print(iteraz)\n",
    "    j = 0\n",
    "    graph_copy = graph.copy()\n",
    "    for perc_vax in Perc_vax:\n",
    "        j+=1\n",
    "        print(j)\n",
    "        \n",
    "        graph_copy = static_vax(graph_copy,perc_vax,radius,Ring,alpha)\n",
    "\n",
    "        deg_dist = [graph_copy.degree(i) for i in graph_copy.nodes()]\n",
    "        prob_vec_final = prob_list(deg_dist,len(prob_vec))\n",
    "        p[j] += prob_vec_final\n",
    "\n",
    "        mean= sum([prob_vec_final[i]*i for i in range(len(prob_vec_final))])\n",
    "        S2 = []\n",
    "        step = np.linspace(0,1,100)\n",
    "        for i in range(len(step)):\n",
    "            x_intersect = fsolve(lambda x: 1-step[i]+step[i]*g_1(x,prob_vec_final,mean) - x,0.05)\n",
    "            S2.append(float(list(abs((1-g_0(x_intersect,prob_vec_final)))*(1-perc_vax))[0]))\n",
    "        s[j] += S2\n",
    "    iteraz += 1\n",
    "\n",
    "p = [i/iteraz for i in p]\n",
    "p[0] = prob_vec\n",
    "\n",
    "            \n",
    "        "
   ]
  }
 ],
 "metadata": {
  "kernelspec": {
   "display_name": "Python 3",
   "language": "python",
   "name": "python3"
  },
  "language_info": {
   "codemirror_mode": {
    "name": "ipython",
    "version": 3
   },
   "file_extension": ".py",
   "mimetype": "text/x-python",
   "name": "python",
   "nbconvert_exporter": "python",
   "pygments_lexer": "ipython3",
   "version": "3.12.2"
  }
 },
 "nbformat": 4,
 "nbformat_minor": 2
}
