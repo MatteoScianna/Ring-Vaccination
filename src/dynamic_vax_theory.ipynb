{
 "cells": [
  {
   "cell_type": "markdown",
   "metadata": {},
   "source": [
    "# Dynamic Vaccination - Theoretical Model"
   ]
  },
  {
   "cell_type": "markdown",
   "metadata": {},
   "source": [
    "## Imports and Functions Definition"
   ]
  },
  {
   "cell_type": "code",
   "execution_count": 1,
   "metadata": {},
   "outputs": [],
   "source": [
    "from functions import *\n",
    "import numpy as np\n",
    "import networkx as nx"
   ]
  },
  {
   "cell_type": "code",
   "execution_count": 2,
   "metadata": {},
   "outputs": [],
   "source": [
    "def printProgressBar (iteration, total, prefix = '', suffix = '', decimals = 1, length = 100, fill = '█', printEnd = \"\\r\"):\n",
    "    \"\"\"\n",
    "    Call in a loop to create terminal progress bar\n",
    "    @params:\n",
    "        iteration   - Required  : current iteration (Int)\n",
    "        total       - Required  : total iterations (Int)\n",
    "        prefix      - Optional  : prefix string (Str)\n",
    "        suffix      - Optional  : suffix string (Str)\n",
    "        decimals    - Optional  : positive number of decimals in percent complete (Int)\n",
    "        length      - Optional  : character length of bar (Int)\n",
    "        fill        - Optional  : bar fill character (Str)\n",
    "        printEnd    - Optional  : end character (e.g. \"\\r\", \"\\r\\n\") (Str)\n",
    "    \"\"\"\n",
    "    percent = (\"{0:.2f}\").format(100 * (iteration / float(total)))\n",
    "    filledLength = int(length * iteration // total)\n",
    "    bar = fill * filledLength + '-' * (length - filledLength)\n",
    "    print(f'\\r{prefix} |{bar}| {percent}% {suffix}', end = printEnd)\n",
    "    # Print New Line on Complete\n",
    "    if iteration == total: \n",
    "        print()"
   ]
  },
  {
   "cell_type": "code",
   "execution_count": 13,
   "metadata": {},
   "outputs": [],
   "source": [
    "def dyn_vax_theory(G,radius,Block,n_nodes,omega,beta,gamma,t_max):\n",
    "\n",
    "    #here we store the probability of being in each of the 4 possible states at each time step\n",
    "    MEAN_S = np.zeros(t_max+1) \n",
    "    MEAN_I = np.zeros(t_max+1)\n",
    "    MEAN_R = np.zeros(t_max+1)\n",
    "    MEAN_V = np.zeros(t_max+1)\n",
    "    nodes_dict = {} #dict that will store for each node the corresponding values of variables phi, theta and delta defined in the paper\n",
    "\n",
    "    #### population of the dictionary with info about the neighbors of each node ####\n",
    "    for i in range(len(G.nodes)):\n",
    "        tot_neigh = nx.single_source_shortest_path_length(G,i,radius) #get all neighbours within the given radis\n",
    "        nth_neigh = set(key for key, value in tot_neigh.items() if value > 0 and value <= radius) if Block else set(key for key, value in tot_neigh.items() if value == radius) \n",
    "        \n",
    "        nodes_dict[i] = {}\n",
    "        nodes_dict[i][\"first_neigh\"] = {neigh:{\"theta-t-1\":1,\"theta-t\":1,\"phi-t-1\":1/n_nodes,\"phi-t\":1/n_nodes,\"delta-t-1\":1,\"delta-t\":1} for neigh in G.neighbors(i)}\n",
    "        nodes_dict[i][\"nth_neigh\"] = {neigh:{\"delta-t-1\":1,\"delta-t\":1,\"phi-t-1\":1/n_nodes,\"phi-t\":1/n_nodes} for neigh in nth_neigh}\n",
    "\n",
    "    ## initialization of the matrices ##\n",
    "    MAT_S = np.zeros((n_nodes,t_max+1))\n",
    "    MAT_S[:,0] = (n_nodes-1)/n_nodes\n",
    "    MAT_R = np.zeros((n_nodes,t_max+1))\n",
    "    MAT_I = np.zeros((n_nodes,t_max+1))\n",
    "    MAT_I[:,0] = 1/n_nodes\n",
    "    MAT_V = np.zeros((n_nodes,t_max+1))\n",
    "    nodes_dict_copy = nodes_dict.copy()\n",
    "\n",
    "\n",
    "    #### simulation of the epidemic ####\n",
    "    t = 0\n",
    "\n",
    "    while t < t_max:\n",
    "        printProgressBar(t,t_max,prefix = \"Time\",suffix = \"Complete\",length = 50)\n",
    "        for i in nodes_dict_copy.keys():\n",
    "            for k in nodes_dict_copy[i][\"first_neigh\"].keys():\n",
    "                nodes_dict_copy[i][\"first_neigh\"][k][\"theta-t-1\"] = nodes_dict_copy[i][\"first_neigh\"][k][\"theta-t\"]    \n",
    "                nodes_dict_copy[i][\"first_neigh\"][k][\"theta-t\"] -= beta*(1-omega)*nodes_dict_copy[i][\"first_neigh\"][k][\"phi-t\"]\n",
    "                nodes_dict_copy[i][\"first_neigh\"][k][\"delta-t-1\"] = nodes_dict_copy[i][\"first_neigh\"][k][\"delta-t\"]\n",
    "                nodes_dict_copy[i][\"first_neigh\"][k][\"delta-t\"] -= omega*nodes_dict_copy[i][\"first_neigh\"][k][\"phi-t\"]\n",
    "            \n",
    "            for k in nodes_dict_copy[i][\"nth_neigh\"].keys():\n",
    "                nodes_dict_copy[i][\"nth_neigh\"][k][\"delta-t-1\"] = nodes_dict_copy[i][\"nth_neigh\"][k][\"delta-t\"]\n",
    "                nodes_dict_copy[i][\"nth_neigh\"][k][\"delta-t\"] -= omega*nodes_dict_copy[i][\"nth_neigh\"][k][\"phi-t\"]\n",
    "\n",
    "        for i in nodes_dict_copy.keys():\n",
    "            for k in nodes_dict_copy[i][\"first_neigh\"].keys():        \n",
    "                save= nodes_dict_copy[i][\"first_neigh\"][k][\"phi-t\"]\n",
    "                nodes_dict_copy[i][\"first_neigh\"][k][\"phi-t\"] = nodes_dict_copy[i][\"first_neigh\"][k][\"phi-t-1\"]*(1-gamma)*(1-beta)*(1-omega) + (MAT_S[i,0])*((np.prod([nodes_dict_copy[k][\"first_neigh\"][j][\"theta-t-1\"] for j in nodes_dict_copy[k][\"first_neigh\"].keys() if j!= i])-np.prod([nodes_dict_copy[k][\"first_neigh\"][j][\"theta-t\"] for j in nodes_dict_copy[k][\"first_neigh\"].keys() if j!= i]))*(np.prod([nodes_dict_copy[k][\"first_neigh\"][j][\"delta-t\"] for j in nodes_dict_copy[k][\"first_neigh\"].keys() if j!= i])))*(np.prod([nodes_dict_copy[k][\"nth_neigh\"][j][\"delta-t\"] for j in nodes_dict_copy[k][\"nth_neigh\"].keys() if j!= i]))\n",
    "                nodes_dict_copy[i][\"first_neigh\"][k][\"phi-t-1\"] = save\n",
    "\n",
    "        for i in nodes_dict_copy.keys():\n",
    "            for k in nodes_dict_copy[i][\"nth_neigh\"].keys():        \n",
    "                save= nodes_dict_copy[i][\"nth_neigh\"][k][\"phi-t\"]\n",
    "                nodes_dict_copy[i][\"nth_neigh\"][k][\"phi-t\"] = nodes_dict_copy[i][\"nth_neigh\"][k][\"phi-t-1\"]*(1-gamma)*(1-beta)*(1-omega) + (MAT_S[i,0])*(np.prod([nodes_dict_copy[k][\"first_neigh\"][j][\"theta-t-1\"] for j in nodes_dict_copy[k][\"first_neigh\"].keys() if j!= i])-np.prod([nodes_dict_copy[k][\"first_neigh\"][j][\"theta-t\"] for j in nodes_dict_copy[k][\"first_neigh\"].keys() if j!= i]))*(np.prod([nodes_dict_copy[k][\"nth_neigh\"][j][\"delta-t\"] for j in nodes_dict_copy[k][\"nth_neigh\"].keys() if j!= i]))\n",
    "\n",
    "                nodes_dict_copy[i][\"nth_neigh\"][k][\"phi-t-1\"] = save\n",
    "\n",
    "        for i in nodes_dict_copy.keys():\n",
    "                MAT_S[i,t] = MAT_S[i,0]*(np.prod([nodes_dict_copy[i][\"first_neigh\"][k][\"theta-t\"] for k in nodes_dict_copy[i][\"first_neigh\"].keys()]))*(np.prod([nodes_dict_copy[i][\"nth_neigh\"][k][\"delta-t\"] for k in nodes_dict_copy[i][\"nth_neigh\"].keys()]))\n",
    "                MAT_R[i,t] = MAT_R[i,t-1] + gamma*MAT_I[i,t-1]\n",
    "                MAT_I[i,t] = MAT_I[i,t-1]*(1-gamma) + (MAT_S[i,0])*(np.prod([nodes_dict_copy[i][\"first_neigh\"][j][\"theta-t-1\"] for j in nodes_dict_copy[i][\"first_neigh\"].keys() if j!= i])-np.prod([nodes_dict_copy[i][\"first_neigh\"][j][\"theta-t\"] for j in nodes_dict_copy[i][\"first_neigh\"].keys() if j!= i]))*(np.prod([nodes_dict_copy[i][\"nth_neigh\"][k][\"delta-t\"] for k in nodes_dict_copy[i][\"nth_neigh\"].keys()]))\n",
    "                MAT_V[i,t] = 1-MAT_S[i,t]-MAT_I[i,t]-MAT_R[i,t]\n",
    "        \n",
    "    \n",
    "        #print(\"t: \"+str(t))\n",
    "        MEAN_S[t] = np.mean(MAT_S[:,t])\n",
    "        MEAN_I[t] = np.mean(MAT_I[:,t])\n",
    "        MEAN_R[t] = np.mean(MAT_R[:,t])\n",
    "        MEAN_V[t] = np.mean(MAT_V[:,t])\n",
    "        t+=1\n",
    "\n",
    "\n",
    "    #set mean_s[0] = 1\n",
    "\n",
    "    return MEAN_S,MEAN_I,MEAN_R,MEAN_V"
   ]
  },
  {
   "cell_type": "code",
   "execution_count": 14,
   "metadata": {},
   "outputs": [],
   "source": [
    "omega = 0.3 #vaccination probability\n",
    "beta = 1 #infection probability\n",
    "gamma = 1 #recovery probability\n",
    "t_max = 50 #number of steps of the process\n",
    "n_nodes = 10000 #number of nodes in the network\n",
    "niter = 2 #number of iterations \n",
    "prob_vec = prob_list_powerlaw(2.5,3,400) #definition of the probability distribution of the network\n",
    "radius = 2 #vaccination radius\n",
    "Block = True #block or ring"
   ]
  },
  {
   "cell_type": "code",
   "execution_count": 15,
   "metadata": {},
   "outputs": [
    {
     "name": "stdout",
     "output_type": "stream",
     "text": [
      "Iteration: 1\n",
      "Iteration: 2███████████████████████████████████████████-| 98.00% Complete\n",
      "Time |█████████████████████████████████████████████████-| 98.00% Complete\r"
     ]
    }
   ],
   "source": [
    "S = [0]*t_max\n",
    "I = [0]*t_max\n",
    "R = [0]*t_max\n",
    "V = [0]*t_max\n",
    "\n",
    "\n",
    "\n",
    "iterat = 0\n",
    "while iterat < niter:\n",
    "    iterat += 1\n",
    "    print(\"Iteration: \"+str(iterat))\n",
    "\n",
    "\n",
    "    ##### initialization of the graph #####\n",
    "    degree_vec_in = discrete_samples(prob_vec,n_nodes)\n",
    "    G = config_model(degree_vec_in)\n",
    "    MEAN_S,MEAN_I,MEAN_R,MEAN_V = dyn_vax_theory(G,radius,Block,n_nodes,omega,beta,gamma,t_max)\n",
    "    S = [S[i] + MEAN_S[i] for i in range(len(S))]\n",
    "    I = [I[i] + MEAN_I[i] for i in range(len(I))]\n",
    "    R = [R[i] + MEAN_R[i] for i in range(len(R))]\n",
    "    V = [V[i] + MEAN_V[i] for i in range(len(V))]\n",
    "\n",
    "S = [S[i]/niter for i in range(len(S))]\n",
    "I = [I[i]/niter for i in range(len(I))]\n",
    "R = [R[i]/niter for i in range(len(R))]\n",
    "V = [V[i]/niter for i in range(len(V))]\n",
    "     \n",
    "\n",
    "\n"
   ]
  },
  {
   "cell_type": "code",
   "execution_count": 16,
   "metadata": {},
   "outputs": [
    {
     "data": {
      "image/png": "[encoded data removed]",
      "text/plain": [
       "<Figure size 640x480 with 1 Axes>"
      ]
     },
     "metadata": {},
     "output_type": "display_data"
    }
   ],
   "source": [
    "#plotting\n",
    "import matplotlib.pyplot as plt\n",
    "plt.plot(S,label = \"S\")\n",
    "plt.plot(I,label = \"I\")\n",
    "plt.plot(R,label = \"R\")\n",
    "plt.plot(V,label = \"V\")\n",
    "plt.legend()\n",
    "plt.show()\n"
   ]
  },
  {
   "cell_type": "code",
   "execution_count": null,
   "metadata": {},
   "outputs": [],
   "source": [
    "path = \"\"\n",
    "Omega = np.linspace(0,0.4,100)\n",
    "Beta = np.linspace(0,1,100)\n",
    "import pandas as pd\n",
    "df = pd.DataFrame(columns = [\"Omega\", \"Beta\", \"time\",\"Recovered\", \"Infected\", \"Susceptible\", \"Vaccinated\"])\n",
    "#save\n",
    "df.to_csv(path+\"results.csv\")\n",
    "for omega in Omega:\n",
    "    for beta in Beta:\n",
    "        iterat = 0\n",
    "        S = [0]*t_max\n",
    "        I = [0]*t_max\n",
    "        R = [0]*t_max\n",
    "        V = [0]*t_max\n",
    "        while iterat < niter:\n",
    "            iterat += 1\n",
    "            print(\"Iteration: \"+str(iterat))\n",
    "\n",
    "\n",
    "            ##### initialization of the graph #####\n",
    "            degree_vec_in = discrete_samples(prob_vec,n_nodes)\n",
    "            G = config_model(degree_vec_in)\n",
    "            MEAN_S,MEAN_I,MEAN_R,MEAN_V = dyn_vax_theory(G,radius,Block,n_nodes,omega,beta,gamma,t_max)\n",
    "\n",
    "            S = [S[i] + MEAN_S[i] for i in range(len(S))]\n",
    "            I = [I[i] + MEAN_I[i] for i in range(len(I))]\n",
    "            R = [R[i] + MEAN_R[i] for i in range(len(R))]\n",
    "            V = [V[i] + MEAN_V[i] for i in range(len(V))]\n",
    "\n",
    "        S = [S[i]/niter for i in range(len(S))]\n",
    "        I = [I[i]/niter for i in range(len(I))]\n",
    "        R = [R[i]/niter for i in range(len(R))]\n",
    "        V = [V[i]/niter for i in range(len(V))]\n",
    "             \n",
    "        \n",
    "        #save\n",
    "        for t in range(0,t_max):\n",
    "            df = df._append({\"Omega\": omega, \"Beta\": beta, \"time\": t, \"Recovered\": MEAN_R[t], \"Infected\": MEAN_I[t], \"Susceptible\": MEAN_S[t], \"Vaccinated\": MEAN_V[t]}, ignore_index=True)\n",
    "\n",
    "        print(\"Results for omega :\"+str(omega)+\", beta: \"+str(beta)+ \"::: +\\n\"+ \"Recovered: \"+str(R[-1])+\"\\n\"+\"Infected: \"+str(I[-1])+\"\\n\"+\"Susceptible: \"+str(S[-1])+\"\\n\"+\"Vaccinated: \"+str(V[-1])+\"\\n\")\n",
    "        df.to_csv(path+\"results.csv\")\n",
    "\n",
    "\n",
    "       "
   ]
  }
 ],
 "metadata": {
  "kernelspec": {
   "display_name": "Python 3",
   "language": "python",
   "name": "python3"
  },
  "language_info": {
   "codemirror_mode": {
    "name": "ipython",
    "version": 3
   },
   "file_extension": ".py",
   "mimetype": "text/x-python",
   "name": "python",
   "nbconvert_exporter": "python",
   "pygments_lexer": "ipython3",
   "version": "3.12.2"
  }
 },
 "nbformat": 4,
 "nbformat_minor": 2
}
